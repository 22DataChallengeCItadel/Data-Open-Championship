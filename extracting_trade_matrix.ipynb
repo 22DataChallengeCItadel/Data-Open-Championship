{
 "cells": [
  {
   "cell_type": "code",
   "execution_count": 271,
   "metadata": {},
   "outputs": [],
   "source": [
    "import pandas as pd"
   ]
  },
  {
   "cell_type": "code",
   "execution_count": 272,
   "metadata": {},
   "outputs": [
    {
     "data": {
      "text/html": [
       "\n",
       "            <div>\n",
       "                <p><b>SparkSession - hive</b></p>\n",
       "                \n",
       "        <div>\n",
       "            <p><b>SparkContext</b></p>\n",
       "\n",
       "            <p><a href=\"http://192.168.1.173:4040\">Spark UI</a></p>\n",
       "\n",
       "            <dl>\n",
       "              <dt>Version</dt>\n",
       "                <dd><code>v2.4.4</code></dd>\n",
       "              <dt>Master</dt>\n",
       "                <dd><code>local[*]</code></dd>\n",
       "              <dt>AppName</dt>\n",
       "                <dd><code>PySparkShell</code></dd>\n",
       "            </dl>\n",
       "        </div>\n",
       "        \n",
       "            </div>\n",
       "        "
      ],
      "text/plain": [
       "<pyspark.sql.session.SparkSession at 0x1c0dbc18898>"
      ]
     },
     "execution_count": 272,
     "metadata": {},
     "output_type": "execute_result"
    }
   ],
   "source": [
    "import pyspark\n",
    "from pyspark.sql import SparkSession\n",
    "from pyspark.sql.functions import expr\n",
    "from pyspark.sql.functions import *\n",
    "from pyspark.sql.types import IntegerType\n",
    "import matplotlib.pyplot as plt\n",
    "sc = SparkSession.builder.appName('SparkByExamples.com').getOrCreate()\n",
    "sc"
   ]
  },
  {
   "cell_type": "code",
   "execution_count": 64,
   "metadata": {},
   "outputs": [],
   "source": [
    "df = spark.read.csv(\n",
    "    \"US_tradematrix.csv\", \n",
    "    header=True)\\\n",
    ".withColumnRenamed(\"Economy Label\",\"Economy_Label\")\\\n",
    ".withColumnRenamed(\"Partner Label\",\"Partner_Label\")\\\n",
    ".withColumnRenamed(\"Flow Label\",\"Flow_Label\")\\\n",
    ".withColumnRenamed(\"SitcRev3Product Label\",\"SitcRev3Product_Label\")\\\n",
    ".withColumnRenamed(\"US dollars at current prices in thousands\",\"price\")\\\n",
    ".withColumnRenamed(\"US dollars at current prices in thousands Footnote\",\"price_footnote\")\n",
    "df = df.withColumn('price', df.price.cast(IntegerType()))\n"
   ]
  },
  {
   "cell_type": "code",
   "execution_count": 65,
   "metadata": {},
   "outputs": [
    {
     "name": "stdout",
     "output_type": "stream",
     "text": [
      "+----+-------+-------------+-------+-------------+----+----------+---------------+---------------------+----------+--------------+\n",
      "|Year|Economy|Economy_Label|Partner|Partner_Label|Flow|Flow_Label|SitcRev3Product|SitcRev3Product_Label|     price|price_footnote|\n",
      "+----+-------+-------------+-------+-------------+----+----------+---------------+---------------------+----------+--------------+\n",
      "|2016|   0000|        World|   0000|        World|  01|   Imports|              0| Food and live ani...|1067922054|          null|\n",
      "+----+-------+-------------+-------+-------------+----+----------+---------------+---------------------+----------+--------------+\n",
      "only showing top 1 row\n",
      "\n"
     ]
    }
   ],
   "source": [
    "df.show(1)"
   ]
  },
  {
   "cell_type": "code",
   "execution_count": 49,
   "metadata": {},
   "outputs": [
    {
     "name": "stdout",
     "output_type": "stream",
     "text": [
      "+----------+----+-------------+\n",
      "|Flow Label|Year|   sum(price)|\n",
      "+----------+----+-------------+\n",
      "|   Exports|2016|3405154409641|\n",
      "|   Exports|2017|3663528018901|\n",
      "|   Exports|2018|3872726964013|\n",
      "|   Exports|2019|3811337406439|\n",
      "|   Exports|2020|3641919444863|\n",
      "|   Imports|2016|3375470539812|\n",
      "|   Imports|2017|3676872205562|\n",
      "|   Imports|2018|3882593546203|\n",
      "|   Imports|2019|3801345795923|\n",
      "|   Imports|2020|3636650170512|\n",
      "+----------+----+-------------+\n",
      "\n",
      "Wall time: 1min 41s\n"
     ]
    }
   ],
   "source": [
    "%%time\n",
    "# world trade trend\n",
    "\n",
    "df.where(df.Economy_Label == 'World').groupby(['Flow Label','Year']).sum('price').orderBy(['Flow Label','Year']).show(10)"
   ]
  },
  {
   "cell_type": "code",
   "execution_count": 102,
   "metadata": {},
   "outputs": [],
   "source": [
    "# searching for country names\n",
    "country_names = df.select(col('Economy_Label')).drop_duplicates().toPandas()"
   ]
  },
  {
   "cell_type": "code",
   "execution_count": 148,
   "metadata": {},
   "outputs": [
    {
     "data": {
      "text/html": [
       "<div>\n",
       "<style scoped>\n",
       "    .dataframe tbody tr th:only-of-type {\n",
       "        vertical-align: middle;\n",
       "    }\n",
       "\n",
       "    .dataframe tbody tr th {\n",
       "        vertical-align: top;\n",
       "    }\n",
       "\n",
       "    .dataframe thead th {\n",
       "        text-align: right;\n",
       "    }\n",
       "</style>\n",
       "<table border=\"1\" class=\"dataframe\">\n",
       "  <thead>\n",
       "    <tr style=\"text-align: right;\">\n",
       "      <th></th>\n",
       "      <th>Economy_Label</th>\n",
       "    </tr>\n",
       "  </thead>\n",
       "  <tbody>\n",
       "    <tr>\n",
       "      <th>9</th>\n",
       "      <td>Western Asia and Northern Africa</td>\n",
       "    </tr>\n",
       "    <tr>\n",
       "      <th>18</th>\n",
       "      <td>ASEAN (Association of Southeast Asian Nations)...</td>\n",
       "    </tr>\n",
       "    <tr>\n",
       "      <th>29</th>\n",
       "      <td>Emerging markets: Asia</td>\n",
       "    </tr>\n",
       "    <tr>\n",
       "      <th>43</th>\n",
       "      <td>ESCAP (Economic and Social Commission for Asia...</td>\n",
       "    </tr>\n",
       "    <tr>\n",
       "      <th>47</th>\n",
       "      <td>Developing economies: Asia</td>\n",
       "    </tr>\n",
       "    <tr>\n",
       "      <th>52</th>\n",
       "      <td>ASEAN (Association of Southeast Asian Nations)</td>\n",
       "    </tr>\n",
       "    <tr>\n",
       "      <th>80</th>\n",
       "      <td>Developed economies: Asia</td>\n",
       "    </tr>\n",
       "    <tr>\n",
       "      <th>88</th>\n",
       "      <td>APEC (Asia-Pacific Economic Cooperation)</td>\n",
       "    </tr>\n",
       "    <tr>\n",
       "      <th>136</th>\n",
       "      <td>UNECE: Eastern Europe, Caucasus and Central Asia</td>\n",
       "    </tr>\n",
       "    <tr>\n",
       "      <th>138</th>\n",
       "      <td>Central Asia</td>\n",
       "    </tr>\n",
       "    <tr>\n",
       "      <th>194</th>\n",
       "      <td>ESCAP: East and North-East Asia, incl. the Rus...</td>\n",
       "    </tr>\n",
       "    <tr>\n",
       "      <th>198</th>\n",
       "      <td>ESCAP: South and South-West Asia</td>\n",
       "    </tr>\n",
       "    <tr>\n",
       "      <th>215</th>\n",
       "      <td>South-eastern Asia</td>\n",
       "    </tr>\n",
       "    <tr>\n",
       "      <th>242</th>\n",
       "      <td>SAARC (South Asian Association for Regional Co...</td>\n",
       "    </tr>\n",
       "    <tr>\n",
       "      <th>243</th>\n",
       "      <td>ESCWA (Economic and Social Commission for West...</td>\n",
       "    </tr>\n",
       "    <tr>\n",
       "      <th>244</th>\n",
       "      <td>Southern Asia</td>\n",
       "    </tr>\n",
       "    <tr>\n",
       "      <th>263</th>\n",
       "      <td>LDCs: Asia</td>\n",
       "    </tr>\n",
       "    <tr>\n",
       "      <th>314</th>\n",
       "      <td>Western Asia</td>\n",
       "    </tr>\n",
       "    <tr>\n",
       "      <th>346</th>\n",
       "      <td>APTA (Asia-Pacific Trade Agreement)</td>\n",
       "    </tr>\n",
       "    <tr>\n",
       "      <th>357</th>\n",
       "      <td>Asia</td>\n",
       "    </tr>\n",
       "    <tr>\n",
       "      <th>358</th>\n",
       "      <td>Central and Southern Asia</td>\n",
       "    </tr>\n",
       "    <tr>\n",
       "      <th>361</th>\n",
       "      <td>Eastern Asia</td>\n",
       "    </tr>\n",
       "    <tr>\n",
       "      <th>362</th>\n",
       "      <td>ESCAP: East and North-East Asia (ENEA)</td>\n",
       "    </tr>\n",
       "    <tr>\n",
       "      <th>365</th>\n",
       "      <td>GSTP: Asia</td>\n",
       "    </tr>\n",
       "    <tr>\n",
       "      <th>379</th>\n",
       "      <td>Asia and Oceania</td>\n",
       "    </tr>\n",
       "    <tr>\n",
       "      <th>398</th>\n",
       "      <td>ESCAP: North and Central Asia</td>\n",
       "    </tr>\n",
       "    <tr>\n",
       "      <th>403</th>\n",
       "      <td>Developed economies: Asia and Oceania</td>\n",
       "    </tr>\n",
       "    <tr>\n",
       "      <th>407</th>\n",
       "      <td>Developing economies: Asia and Oceania</td>\n",
       "    </tr>\n",
       "    <tr>\n",
       "      <th>421</th>\n",
       "      <td>Eastern and South-Eastern Asia</td>\n",
       "    </tr>\n",
       "  </tbody>\n",
       "</table>\n",
       "</div>"
      ],
      "text/plain": [
       "                                         Economy_Label\n",
       "9                     Western Asia and Northern Africa\n",
       "18   ASEAN (Association of Southeast Asian Nations)...\n",
       "29                              Emerging markets: Asia\n",
       "43   ESCAP (Economic and Social Commission for Asia...\n",
       "47                          Developing economies: Asia\n",
       "52      ASEAN (Association of Southeast Asian Nations)\n",
       "80                           Developed economies: Asia\n",
       "88            APEC (Asia-Pacific Economic Cooperation)\n",
       "136   UNECE: Eastern Europe, Caucasus and Central Asia\n",
       "138                                       Central Asia\n",
       "194  ESCAP: East and North-East Asia, incl. the Rus...\n",
       "198                   ESCAP: South and South-West Asia\n",
       "215                                 South-eastern Asia\n",
       "242  SAARC (South Asian Association for Regional Co...\n",
       "243  ESCWA (Economic and Social Commission for West...\n",
       "244                                      Southern Asia\n",
       "263                                         LDCs: Asia\n",
       "314                                       Western Asia\n",
       "346                APTA (Asia-Pacific Trade Agreement)\n",
       "357                                               Asia\n",
       "358                          Central and Southern Asia\n",
       "361                                       Eastern Asia\n",
       "362             ESCAP: East and North-East Asia (ENEA)\n",
       "365                                         GSTP: Asia\n",
       "379                                   Asia and Oceania\n",
       "398                      ESCAP: North and Central Asia\n",
       "403              Developed economies: Asia and Oceania\n",
       "407             Developing economies: Asia and Oceania\n",
       "421                     Eastern and South-Eastern Asia"
      ]
     },
     "execution_count": 148,
     "metadata": {},
     "output_type": "execute_result"
    }
   ],
   "source": [
    "country_names[country_names.Economy_Label.str.contains('Asia')]"
   ]
  },
  {
   "cell_type": "code",
   "execution_count": 92,
   "metadata": {},
   "outputs": [],
   "source": [
    "# Austria\n",
    "austria_df = df.where(df.Economy_Label == 'Austria').groupby(['Economy_Label','Flow_Label','Year','SitcRev3Product_Label', 'Partner_Label']).sum('price').orderBy(['Flow_Label','Year']).toPandas()\n"
   ]
  },
  {
   "cell_type": "code",
   "execution_count": 112,
   "metadata": {},
   "outputs": [],
   "source": [
    "us_df = df.where(df.Economy_Label == 'United States of America').groupby(['Economy_Label','Flow_Label','Year','SitcRev3Product_Label', 'Partner_Label']).sum('price').orderBy(['Flow_Label','Year']).toPandas()"
   ]
  },
  {
   "cell_type": "code",
   "execution_count": 133,
   "metadata": {},
   "outputs": [],
   "source": [
    "# find strings\n",
    "products = df.select(col('SitcRev3Product_Label')).drop_duplicates().toPandas()\n"
   ]
  },
  {
   "cell_type": "code",
   "execution_count": 276,
   "metadata": {},
   "outputs": [
    {
     "data": {
      "text/html": [
       "<div>\n",
       "<style scoped>\n",
       "    .dataframe tbody tr th:only-of-type {\n",
       "        vertical-align: middle;\n",
       "    }\n",
       "\n",
       "    .dataframe tbody tr th {\n",
       "        vertical-align: top;\n",
       "    }\n",
       "\n",
       "    .dataframe thead th {\n",
       "        text-align: right;\n",
       "    }\n",
       "</style>\n",
       "<table border=\"1\" class=\"dataframe\">\n",
       "  <thead>\n",
       "    <tr style=\"text-align: right;\">\n",
       "      <th></th>\n",
       "      <th>SitcRev3Product_Label</th>\n",
       "    </tr>\n",
       "  </thead>\n",
       "  <tbody>\n",
       "    <tr>\n",
       "      <th>81</th>\n",
       "      <td>Paper and paper manufactures</td>\n",
       "    </tr>\n",
       "    <tr>\n",
       "      <th>241</th>\n",
       "      <td>Paper &amp; paperboard, cut to shape or size, arti...</td>\n",
       "    </tr>\n",
       "    <tr>\n",
       "      <th>272</th>\n",
       "      <td>Paper and paperboard</td>\n",
       "    </tr>\n",
       "    <tr>\n",
       "      <th>332</th>\n",
       "      <td>Pulp and waste paper</td>\n",
       "    </tr>\n",
       "    <tr>\n",
       "      <th>372</th>\n",
       "      <td>Paper mill, pulp mill machinery; paper article...</td>\n",
       "    </tr>\n",
       "  </tbody>\n",
       "</table>\n",
       "</div>"
      ],
      "text/plain": [
       "                                 SitcRev3Product_Label\n",
       "81                        Paper and paper manufactures\n",
       "241  Paper & paperboard, cut to shape or size, arti...\n",
       "272                               Paper and paperboard\n",
       "332                               Pulp and waste paper\n",
       "372  Paper mill, pulp mill machinery; paper article..."
      ]
     },
     "execution_count": 276,
     "metadata": {},
     "output_type": "execute_result"
    }
   ],
   "source": [
    "products[products.SitcRev3Product_Label.str.contains('paper', case = False)].iloc[1,0]"
   ]
  },
  {
   "cell_type": "code",
   "execution_count": 280,
   "metadata": {},
   "outputs": [],
   "source": [
    "products.to_csv('full_product_list.csv',index = False)"
   ]
  },
  {
   "cell_type": "code",
   "execution_count": 281,
   "metadata": {},
   "outputs": [
    {
     "data": {
      "text/html": [
       "<div>\n",
       "<style scoped>\n",
       "    .dataframe tbody tr th:only-of-type {\n",
       "        vertical-align: middle;\n",
       "    }\n",
       "\n",
       "    .dataframe tbody tr th {\n",
       "        vertical-align: top;\n",
       "    }\n",
       "\n",
       "    .dataframe thead th {\n",
       "        text-align: right;\n",
       "    }\n",
       "</style>\n",
       "<table border=\"1\" class=\"dataframe\">\n",
       "  <thead>\n",
       "    <tr style=\"text-align: right;\">\n",
       "      <th></th>\n",
       "      <th>SitcRev3Product_Label</th>\n",
       "    </tr>\n",
       "  </thead>\n",
       "  <tbody>\n",
       "    <tr>\n",
       "      <th>81</th>\n",
       "      <td>Paper and paper manufactures</td>\n",
       "    </tr>\n",
       "    <tr>\n",
       "      <th>241</th>\n",
       "      <td>Paper &amp; paperboard, cut to shape or size, arti...</td>\n",
       "    </tr>\n",
       "    <tr>\n",
       "      <th>272</th>\n",
       "      <td>Paper and paperboard</td>\n",
       "    </tr>\n",
       "    <tr>\n",
       "      <th>332</th>\n",
       "      <td>Pulp and waste paper</td>\n",
       "    </tr>\n",
       "    <tr>\n",
       "      <th>372</th>\n",
       "      <td>Paper mill, pulp mill machinery; paper article...</td>\n",
       "    </tr>\n",
       "  </tbody>\n",
       "</table>\n",
       "</div>"
      ],
      "text/plain": [
       "                                 SitcRev3Product_Label\n",
       "81                        Paper and paper manufactures\n",
       "241  Paper & paperboard, cut to shape or size, arti...\n",
       "272                               Paper and paperboard\n",
       "332                               Pulp and waste paper\n",
       "372  Paper mill, pulp mill machinery; paper article..."
      ]
     },
     "execution_count": 281,
     "metadata": {},
     "output_type": "execute_result"
    }
   ],
   "source": [
    "products[products.SitcRev3Product_Label.str.contains('paper', case = False)]"
   ]
  },
  {
   "cell_type": "code",
   "execution_count": 139,
   "metadata": {},
   "outputs": [
    {
     "data": {
      "text/html": [
       "<div>\n",
       "<style scoped>\n",
       "    .dataframe tbody tr th:only-of-type {\n",
       "        vertical-align: middle;\n",
       "    }\n",
       "\n",
       "    .dataframe tbody tr th {\n",
       "        vertical-align: top;\n",
       "    }\n",
       "\n",
       "    .dataframe thead th {\n",
       "        text-align: right;\n",
       "    }\n",
       "</style>\n",
       "<table border=\"1\" class=\"dataframe\">\n",
       "  <thead>\n",
       "    <tr style=\"text-align: right;\">\n",
       "      <th></th>\n",
       "      <th>product_name</th>\n",
       "      <th>class</th>\n",
       "    </tr>\n",
       "  </thead>\n",
       "  <tbody>\n",
       "    <tr>\n",
       "      <th>37</th>\n",
       "      <td>Waste, parings and scrap, of plastics</td>\n",
       "      <td>plastic</td>\n",
       "    </tr>\n",
       "    <tr>\n",
       "      <th>45</th>\n",
       "      <td>Plastics in non-primary forms</td>\n",
       "      <td>plastic</td>\n",
       "    </tr>\n",
       "    <tr>\n",
       "      <th>52</th>\n",
       "      <td>Plastics in primary forms</td>\n",
       "      <td>plastic</td>\n",
       "    </tr>\n",
       "    <tr>\n",
       "      <th>53</th>\n",
       "      <td>Tubes, pipes and hoses of plastics</td>\n",
       "      <td>plastic</td>\n",
       "    </tr>\n",
       "    <tr>\n",
       "      <th>259</th>\n",
       "      <td>Other plastics, in primary forms</td>\n",
       "      <td>plastic</td>\n",
       "    </tr>\n",
       "    <tr>\n",
       "      <th>266</th>\n",
       "      <td>Plates, sheets, films, foil &amp; strip, of plastics</td>\n",
       "      <td>plastic</td>\n",
       "    </tr>\n",
       "    <tr>\n",
       "      <th>294</th>\n",
       "      <td>Monofilaments, of plastics, cross-section &gt; 1mm</td>\n",
       "      <td>plastic</td>\n",
       "    </tr>\n",
       "    <tr>\n",
       "      <th>328</th>\n",
       "      <td>Articles, n.e.s., of plastics</td>\n",
       "      <td>plastic</td>\n",
       "    </tr>\n",
       "    <tr>\n",
       "      <th>59</th>\n",
       "      <td>Travel goods, handbags &amp; similar containers</td>\n",
       "      <td>bag</td>\n",
       "    </tr>\n",
       "    <tr>\n",
       "      <th>299</th>\n",
       "      <td>Travel goods, handbags, etc.</td>\n",
       "      <td>bag</td>\n",
       "    </tr>\n",
       "    <tr>\n",
       "      <th>64</th>\n",
       "      <td>Cinematograph films, exposed &amp; developed</td>\n",
       "      <td>film</td>\n",
       "    </tr>\n",
       "    <tr>\n",
       "      <th>266</th>\n",
       "      <td>Plates, sheets, films, foil &amp; strip, of plastics</td>\n",
       "      <td>film</td>\n",
       "    </tr>\n",
       "  </tbody>\n",
       "</table>\n",
       "</div>"
      ],
      "text/plain": [
       "                                         product_name    class\n",
       "37              Waste, parings and scrap, of plastics  plastic\n",
       "45                      Plastics in non-primary forms  plastic\n",
       "52                          Plastics in primary forms  plastic\n",
       "53                 Tubes, pipes and hoses of plastics  plastic\n",
       "259                  Other plastics, in primary forms  plastic\n",
       "266  Plates, sheets, films, foil & strip, of plastics  plastic\n",
       "294   Monofilaments, of plastics, cross-section > 1mm  plastic\n",
       "328                     Articles, n.e.s., of plastics  plastic\n",
       "59        Travel goods, handbags & similar containers      bag\n",
       "299                      Travel goods, handbags, etc.      bag\n",
       "64           Cinematograph films, exposed & developed     film\n",
       "266  Plates, sheets, films, foil & strip, of plastics     film"
      ]
     },
     "execution_count": 139,
     "metadata": {},
     "output_type": "execute_result"
    }
   ],
   "source": [
    "plastic_products = products[products.SitcRev3Product_Label.str.contains('plastic', regex = True, case = False)].copy()\n",
    "plastic_products['class'] = 'plastic'\n",
    "bag_products = products[products.SitcRev3Product_Label.str.contains('bag', regex = True, case = False)].copy()\n",
    "bag_products['class'] = 'bag'\n",
    "film_products = products[products.SitcRev3Product_Label.str.contains('film', regex = True, case = False)].copy()\n",
    "film_products['class'] = 'film'\n",
    "combined_products = pd.concat([plastic_products, bag_products, film_products])\n",
    "combined_products = combined_products.rename(columns = {'SitcRev3Product_Label':'product_name'})\n",
    "combined_products"
   ]
  },
  {
   "cell_type": "code",
   "execution_count": 254,
   "metadata": {},
   "outputs": [],
   "source": [
    "volume = smaller_df.groupby('SitcRev3Product_Label').sum('price').toPandas()"
   ]
  },
  {
   "cell_type": "code",
   "execution_count": 262,
   "metadata": {},
   "outputs": [
    {
     "data": {
      "text/html": [
       "<div>\n",
       "<style scoped>\n",
       "    .dataframe tbody tr th:only-of-type {\n",
       "        vertical-align: middle;\n",
       "    }\n",
       "\n",
       "    .dataframe tbody tr th {\n",
       "        vertical-align: top;\n",
       "    }\n",
       "\n",
       "    .dataframe thead th {\n",
       "        text-align: right;\n",
       "    }\n",
       "</style>\n",
       "<table border=\"1\" class=\"dataframe\">\n",
       "  <thead>\n",
       "    <tr style=\"text-align: right;\">\n",
       "      <th></th>\n",
       "      <th>SitcRev3Product_Label</th>\n",
       "      <th>sum(price)</th>\n",
       "    </tr>\n",
       "  </thead>\n",
       "  <tbody>\n",
       "    <tr>\n",
       "      <th>0</th>\n",
       "      <td>Waste, parings and scrap, of plastics</td>\n",
       "      <td>758867330</td>\n",
       "    </tr>\n",
       "    <tr>\n",
       "      <th>1</th>\n",
       "      <td>Plastics in non-primary forms</td>\n",
       "      <td>25635520254</td>\n",
       "    </tr>\n",
       "    <tr>\n",
       "      <th>2</th>\n",
       "      <td>Plastics in primary forms</td>\n",
       "      <td>50069307016</td>\n",
       "    </tr>\n",
       "    <tr>\n",
       "      <th>3</th>\n",
       "      <td>Tubes, pipes and hoses of plastics</td>\n",
       "      <td>5062175070</td>\n",
       "    </tr>\n",
       "    <tr>\n",
       "      <th>4</th>\n",
       "      <td>Travel goods, handbags &amp; similar containers</td>\n",
       "      <td>13831463984</td>\n",
       "    </tr>\n",
       "    <tr>\n",
       "      <th>5</th>\n",
       "      <td>Cinematograph films, exposed &amp; developed</td>\n",
       "      <td>1578194</td>\n",
       "    </tr>\n",
       "    <tr>\n",
       "      <th>6</th>\n",
       "      <td>Other plastics, in primary forms</td>\n",
       "      <td>20697542998</td>\n",
       "    </tr>\n",
       "    <tr>\n",
       "      <th>7</th>\n",
       "      <td>Plates, sheets, films, foil &amp; strip, of plastics</td>\n",
       "      <td>19376435272</td>\n",
       "    </tr>\n",
       "    <tr>\n",
       "      <th>8</th>\n",
       "      <td>Monofilaments, of plastics, cross-section &gt; 1mm</td>\n",
       "      <td>1196897260</td>\n",
       "    </tr>\n",
       "    <tr>\n",
       "      <th>9</th>\n",
       "      <td>Travel goods, handbags, etc.</td>\n",
       "      <td>13831463984</td>\n",
       "    </tr>\n",
       "    <tr>\n",
       "      <th>10</th>\n",
       "      <td>Articles, n.e.s., of plastics</td>\n",
       "      <td>35822926070</td>\n",
       "    </tr>\n",
       "  </tbody>\n",
       "</table>\n",
       "</div>"
      ],
      "text/plain": [
       "                               SitcRev3Product_Label   sum(price)\n",
       "0              Waste, parings and scrap, of plastics    758867330\n",
       "1                      Plastics in non-primary forms  25635520254\n",
       "2                          Plastics in primary forms  50069307016\n",
       "3                 Tubes, pipes and hoses of plastics   5062175070\n",
       "4        Travel goods, handbags & similar containers  13831463984\n",
       "5           Cinematograph films, exposed & developed      1578194\n",
       "6                   Other plastics, in primary forms  20697542998\n",
       "7   Plates, sheets, films, foil & strip, of plastics  19376435272\n",
       "8    Monofilaments, of plastics, cross-section > 1mm   1196897260\n",
       "9                       Travel goods, handbags, etc.  13831463984\n",
       "10                     Articles, n.e.s., of plastics  35822926070"
      ]
     },
     "execution_count": 262,
     "metadata": {},
     "output_type": "execute_result"
    }
   ],
   "source": [
    "volume"
   ]
  },
  {
   "cell_type": "code",
   "execution_count": 263,
   "metadata": {},
   "outputs": [
    {
     "data": {
      "text/plain": [
       "74756424092"
      ]
     },
     "execution_count": 263,
     "metadata": {},
     "output_type": "execute_result"
    }
   ],
   "source": [
    "volume[volume.SitcRev3Product_Label.isin(['Plastics in non-primary forms', 'Plastics in primary forms', 'Articles, n.e.s., of plastics']) == False]['sum(price)'].sum()"
   ]
  },
  {
   "cell_type": "code",
   "execution_count": 261,
   "metadata": {},
   "outputs": [
    {
     "data": {
      "text/plain": [
       "75704827270"
      ]
     },
     "execution_count": 261,
     "metadata": {},
     "output_type": "execute_result"
    }
   ],
   "source": [
    "volume[volume.SitcRev3Product_Label.isin(['Plastics in non-primary forms', 'Plastics in primary forms']) == True]['sum(price)'].sum()"
   ]
  },
  {
   "cell_type": "code",
   "execution_count": 175,
   "metadata": {},
   "outputs": [
    {
     "name": "stdout",
     "output_type": "stream",
     "text": [
      "product info saved\n"
     ]
    }
   ],
   "source": [
    "combined_products.to_csv('product_info.csv')\n",
    "print('product info saved')"
   ]
  },
  {
   "cell_type": "code",
   "execution_count": null,
   "metadata": {},
   "outputs": [],
   "source": [
    "'''\n",
    "product specific information:\n",
    "\n",
    "--plastics:\n",
    "Other plastics, in primary forms\n",
    "Articles, n.e.s., of plastics\n",
    "Monofilaments, of plastics, cross-section > 1mm\n",
    "Plastics in non-primary forms\n",
    "Plastics in primary forms\n",
    "Tubes, pipes and hoses of plastics\n",
    "Waste, parings and scrap, of plastics\n",
    "Plates, sheets, films, foil & strip, of plastics\n",
    "\n",
    "--bags:\n",
    "Travel goods, handbags & similar containers\n",
    "Travel goods, handbags, etc.\n",
    "\n",
    "--film:\n",
    "Plates, sheets, films, foil & strip, of plastics\n",
    "\n",
    "'''"
   ]
  },
  {
   "cell_type": "code",
   "execution_count": 151,
   "metadata": {},
   "outputs": [
    {
     "data": {
      "text/plain": [
       "['Waste, parings and scrap, of plastics',\n",
       " 'Plastics in non-primary forms',\n",
       " 'Plastics in primary forms',\n",
       " 'Tubes, pipes and hoses of plastics',\n",
       " 'Other plastics, in primary forms',\n",
       " 'Plates, sheets, films, foil & strip, of plastics',\n",
       " 'Monofilaments, of plastics, cross-section > 1mm',\n",
       " 'Articles, n.e.s., of plastics',\n",
       " 'Travel goods, handbags & similar containers',\n",
       " 'Travel goods, handbags, etc.',\n",
       " 'Cinematograph films, exposed & developed',\n",
       " 'Plates, sheets, films, foil & strip, of plastics']"
      ]
     },
     "execution_count": 151,
     "metadata": {},
     "output_type": "execute_result"
    }
   ],
   "source": []
  },
  {
   "cell_type": "markdown",
   "metadata": {},
   "source": [
    "# query the necessary data"
   ]
  },
  {
   "cell_type": "code",
   "execution_count": 155,
   "metadata": {},
   "outputs": [
    {
     "name": "stdout",
     "output_type": "stream",
     "text": [
      "output saved!\n"
     ]
    }
   ],
   "source": [
    "country_list = ['United States of America', 'China', 'India','Europe']\n",
    "product_list = list(combined_products.product_name.values)\n",
    "smaller_df = df.filter(df.SitcRev3Product_Label.isin(product_list))\\\n",
    ".filter(df.Economy_Label.isin(country_list)).persit()\n",
    "output = smaller_df.groupby(['Economy_Label','Flow_Label','Year','SitcRev3Product_Label', 'Partner_Label']).sum('price').orderBy(['Flow_Label','Year']).toPandas()\n",
    "output = output.rename(columns = {'sum(price)':'total_values'})\n",
    "output.to_csv('yearly_flow_data_by_countries.csv', index = False)\n",
    "print('output saved!')"
   ]
  },
  {
   "cell_type": "code",
   "execution_count": 174,
   "metadata": {},
   "outputs": [
    {
     "data": {
      "text/html": [
       "<div>\n",
       "<style scoped>\n",
       "    .dataframe tbody tr th:only-of-type {\n",
       "        vertical-align: middle;\n",
       "    }\n",
       "\n",
       "    .dataframe tbody tr th {\n",
       "        vertical-align: top;\n",
       "    }\n",
       "\n",
       "    .dataframe thead th {\n",
       "        text-align: right;\n",
       "    }\n",
       "</style>\n",
       "<table border=\"1\" class=\"dataframe\">\n",
       "  <thead>\n",
       "    <tr style=\"text-align: right;\">\n",
       "      <th></th>\n",
       "      <th>index</th>\n",
       "      <th>Partner_Label</th>\n",
       "    </tr>\n",
       "    <tr>\n",
       "      <th>Economy_Label</th>\n",
       "      <th></th>\n",
       "      <th></th>\n",
       "    </tr>\n",
       "  </thead>\n",
       "  <tbody>\n",
       "    <tr>\n",
       "      <th>China</th>\n",
       "      <td>Asia and Oceania</td>\n",
       "      <td>0.003126</td>\n",
       "    </tr>\n",
       "    <tr>\n",
       "      <th>Europe</th>\n",
       "      <td>Developed economies: Asia and Oceania</td>\n",
       "      <td>0.002572</td>\n",
       "    </tr>\n",
       "    <tr>\n",
       "      <th>India</th>\n",
       "      <td>BioTrade countries</td>\n",
       "      <td>0.003230</td>\n",
       "    </tr>\n",
       "    <tr>\n",
       "      <th>United States of America</th>\n",
       "      <td>NAFTA (North American Free Trade Agreement)</td>\n",
       "      <td>0.003081</td>\n",
       "    </tr>\n",
       "  </tbody>\n",
       "</table>\n",
       "</div>"
      ],
      "text/plain": [
       "0                                                               index  \\\n",
       "Economy_Label                                                           \n",
       "China                                                Asia and Oceania   \n",
       "Europe                          Developed economies: Asia and Oceania   \n",
       "India                                              BioTrade countries   \n",
       "United States of America  NAFTA (North American Free Trade Agreement)   \n",
       "\n",
       "0                         Partner_Label  \n",
       "Economy_Label                            \n",
       "China                          0.003126  \n",
       "Europe                         0.002572  \n",
       "India                          0.003230  \n",
       "United States of America       0.003081  "
      ]
     },
     "execution_count": 174,
     "metadata": {},
     "output_type": "execute_result"
    }
   ],
   "source": [
    "output.groupby('Economy_Label').apply(lambda x: x.Partner_Label.value_counts(normalize = True).reset_index().iloc[0,:])"
   ]
  },
  {
   "cell_type": "code",
   "execution_count": null,
   "metadata": {},
   "outputs": [],
   "source": []
  },
  {
   "cell_type": "code",
   "execution_count": null,
   "metadata": {},
   "outputs": [],
   "source": []
  },
  {
   "cell_type": "markdown",
   "metadata": {},
   "source": [
    "# trade partner analysis"
   ]
  },
  {
   "cell_type": "code",
   "execution_count": 217,
   "metadata": {},
   "outputs": [
    {
     "name": "stderr",
     "output_type": "stream",
     "text": [
      "C:\\Users\\yzp60\\anaconda3\\envs\\DSCI553\\lib\\site-packages\\IPython\\core\\interactiveshell.py:3072: DtypeWarning: Columns (10) have mixed types.Specify dtype option on import or set low_memory=False.\n",
      "  interactivity=interactivity, compiler=compiler, result=result)\n"
     ]
    }
   ],
   "source": [
    "country_list = ['United States of America', 'China', 'Asia','India','Europe', 'Austria', 'German']\n",
    "partner = pd.read_csv('US_partner.csv')\n",
    "partner = partner[partner['Economy Label'].isin(country_list)]\n"
   ]
  },
  {
   "cell_type": "code",
   "execution_count": 198,
   "metadata": {},
   "outputs": [
    {
     "data": {
      "text/html": [
       "<div>\n",
       "<style scoped>\n",
       "    .dataframe tbody tr th:only-of-type {\n",
       "        vertical-align: middle;\n",
       "    }\n",
       "\n",
       "    .dataframe tbody tr th {\n",
       "        vertical-align: top;\n",
       "    }\n",
       "\n",
       "    .dataframe thead th {\n",
       "        text-align: right;\n",
       "    }\n",
       "</style>\n",
       "<table border=\"1\" class=\"dataframe\">\n",
       "  <thead>\n",
       "    <tr style=\"text-align: right;\">\n",
       "      <th></th>\n",
       "      <th>Year</th>\n",
       "      <th>Economy</th>\n",
       "      <th>Economy Label</th>\n",
       "      <th>Partner</th>\n",
       "      <th>Partner Label</th>\n",
       "      <th>Flow</th>\n",
       "      <th>Flow Label</th>\n",
       "      <th>Product</th>\n",
       "      <th>Product Label</th>\n",
       "      <th>US dollars at current prices in thousands</th>\n",
       "      <th>US dollars at current prices in thousands Footnote</th>\n",
       "    </tr>\n",
       "  </thead>\n",
       "  <tbody>\n",
       "    <tr>\n",
       "      <th>30449</th>\n",
       "      <td>1995</td>\n",
       "      <td>156</td>\n",
       "      <td>China</td>\n",
       "      <td>0</td>\n",
       "      <td>World</td>\n",
       "      <td>1</td>\n",
       "      <td>Imports</td>\n",
       "      <td>P_00</td>\n",
       "      <td>Total plastics</td>\n",
       "      <td>1.562935e+07</td>\n",
       "      <td>NaN</td>\n",
       "    </tr>\n",
       "    <tr>\n",
       "      <th>30450</th>\n",
       "      <td>1995</td>\n",
       "      <td>156</td>\n",
       "      <td>China</td>\n",
       "      <td>0</td>\n",
       "      <td>World</td>\n",
       "      <td>1</td>\n",
       "      <td>Imports</td>\n",
       "      <td>P_01</td>\n",
       "      <td>Plastics in primary forms</td>\n",
       "      <td>6.303396e+06</td>\n",
       "      <td>NaN</td>\n",
       "    </tr>\n",
       "    <tr>\n",
       "      <th>30451</th>\n",
       "      <td>1995</td>\n",
       "      <td>156</td>\n",
       "      <td>China</td>\n",
       "      <td>0</td>\n",
       "      <td>World</td>\n",
       "      <td>1</td>\n",
       "      <td>Imports</td>\n",
       "      <td>P_02</td>\n",
       "      <td>Intermediate forms of plastic</td>\n",
       "      <td>3.039465e+06</td>\n",
       "      <td>NaN</td>\n",
       "    </tr>\n",
       "    <tr>\n",
       "      <th>30452</th>\n",
       "      <td>1995</td>\n",
       "      <td>156</td>\n",
       "      <td>China</td>\n",
       "      <td>0</td>\n",
       "      <td>World</td>\n",
       "      <td>1</td>\n",
       "      <td>Imports</td>\n",
       "      <td>P_03</td>\n",
       "      <td>Intermediate manufactured plastic goods</td>\n",
       "      <td>5.062039e+06</td>\n",
       "      <td>NaN</td>\n",
       "    </tr>\n",
       "    <tr>\n",
       "      <th>30453</th>\n",
       "      <td>1995</td>\n",
       "      <td>156</td>\n",
       "      <td>China</td>\n",
       "      <td>0</td>\n",
       "      <td>World</td>\n",
       "      <td>1</td>\n",
       "      <td>Imports</td>\n",
       "      <td>P_04</td>\n",
       "      <td>Final manufactured plastics goods</td>\n",
       "      <td>1.108457e+06</td>\n",
       "      <td>NaN</td>\n",
       "    </tr>\n",
       "  </tbody>\n",
       "</table>\n",
       "</div>"
      ],
      "text/plain": [
       "       Year  Economy Economy Label  Partner Partner Label  Flow Flow Label  \\\n",
       "30449  1995      156         China        0         World     1    Imports   \n",
       "30450  1995      156         China        0         World     1    Imports   \n",
       "30451  1995      156         China        0         World     1    Imports   \n",
       "30452  1995      156         China        0         World     1    Imports   \n",
       "30453  1995      156         China        0         World     1    Imports   \n",
       "\n",
       "      Product                            Product Label  \\\n",
       "30449    P_00                           Total plastics   \n",
       "30450    P_01                Plastics in primary forms   \n",
       "30451    P_02            Intermediate forms of plastic   \n",
       "30452    P_03  Intermediate manufactured plastic goods   \n",
       "30453    P_04        Final manufactured plastics goods   \n",
       "\n",
       "       US dollars at current prices in thousands  \\\n",
       "30449                               1.562935e+07   \n",
       "30450                               6.303396e+06   \n",
       "30451                               3.039465e+06   \n",
       "30452                               5.062039e+06   \n",
       "30453                               1.108457e+06   \n",
       "\n",
       "      US dollars at current prices in thousands Footnote  \n",
       "30449                                                NaN  \n",
       "30450                                                NaN  \n",
       "30451                                                NaN  \n",
       "30452                                                NaN  \n",
       "30453                                                NaN  "
      ]
     },
     "execution_count": 198,
     "metadata": {},
     "output_type": "execute_result"
    }
   ],
   "source": [
    "partner.head()"
   ]
  },
  {
   "cell_type": "code",
   "execution_count": 223,
   "metadata": {},
   "outputs": [
    {
     "data": {
      "image/png": "[encoded data removed]",
      "text/plain": [
       "<Figure size 432x288 with 1 Axes>"
      ]
     },
     "metadata": {
      "needs_background": "light"
     },
     "output_type": "display_data"
    }
   ],
   "source": [
    "for country in partner['Economy Label'].unique():\n",
    "    partner[(partner['Economy Label'] == country)]\\\n",
    "    .groupby('Year')['US dollars at current prices in thousands'].sum().plot.line()\n",
    "plt.legend(partner['Economy Label'].unique())\n",
    "plt.title('total plastic flows by values')\n",
    "plt.show()"
   ]
  },
  {
   "cell_type": "code",
   "execution_count": 224,
   "metadata": {},
   "outputs": [
    {
     "data": {
      "image/png": "[encoded data removed]",
      "text/plain": [
       "<Figure size 432x288 with 1 Axes>"
      ]
     },
     "metadata": {
      "needs_background": "light"
     },
     "output_type": "display_data"
    }
   ],
   "source": [
    "for country in country_list:\n",
    "    partner[(partner['Economy Label'] == country)&(partner['Flow Label'] == 'Exports')]\\\n",
    "    .groupby('Year')['US dollars at current prices in thousands'].sum().plot.line()\n",
    "plt.legend(country_list)\n",
    "plt.title('total plastic Exports')\n",
    "plt.show()"
   ]
  },
  {
   "cell_type": "code",
   "execution_count": 225,
   "metadata": {},
   "outputs": [
    {
     "data": {
      "image/png": "[encoded data removed]",
      "text/plain": [
       "<Figure size 432x288 with 1 Axes>"
      ]
     },
     "metadata": {
      "needs_background": "light"
     },
     "output_type": "display_data"
    }
   ],
   "source": [
    "for country in country_list:\n",
    "    partner[(partner['Economy Label'] == country)&(partner['Flow Label'] == 'Imports')]\\\n",
    "    .groupby('Year')['US dollars at current prices in thousands'].sum().plot.line()\n",
    "plt.legend(country_list)\n",
    "plt.title('total plastic Imports')\n",
    "plt.show()"
   ]
  },
  {
   "cell_type": "code",
   "execution_count": 226,
   "metadata": {},
   "outputs": [
    {
     "data": {
      "image/png": "[encoded data removed]",
      "text/plain": [
       "<Figure size 432x288 with 1 Axes>"
      ]
     },
     "metadata": {
      "needs_background": "light"
     },
     "output_type": "display_data"
    }
   ],
   "source": [
    "for country in country_list:\n",
    "    partner[(partner['Economy Label'] == country)\\\n",
    "            &(partner['Flow Label'] == 'Imports')\\\n",
    "            &(partner['Product'] == 'P_05')]\\\n",
    "    .groupby('Year')['US dollars at current prices in thousands'].sum().plot.line()\n",
    "plt.legend(country_list)\n",
    "plt.title('total plastic waste imports')\n",
    "plt.show()"
   ]
  },
  {
   "cell_type": "code",
   "execution_count": 227,
   "metadata": {},
   "outputs": [
    {
     "data": {
      "image/png": "[encoded data removed]",
      "text/plain": [
       "<Figure size 432x288 with 1 Axes>"
      ]
     },
     "metadata": {
      "needs_background": "light"
     },
     "output_type": "display_data"
    }
   ],
   "source": [
    "for country in country_list:\n",
    "    partner[(partner['Economy Label'] == country)\\\n",
    "            &(partner['Flow Label'] == 'Exports')\\\n",
    "            &(partner['Product'] == 'P_05')]\\\n",
    "    .groupby('Year')['US dollars at current prices in thousands'].sum().plot.line()\n",
    "plt.legend(country_list)\n",
    "plt.title('total plastic waste exports')\n",
    "plt.show()"
   ]
  },
  {
   "cell_type": "code",
   "execution_count": 270,
   "metadata": {},
   "outputs": [
    {
     "name": "stderr",
     "output_type": "stream",
     "text": [
      "C:\\Users\\yzp60\\anaconda3\\envs\\DSCI553\\lib\\site-packages\\IPython\\core\\interactiveshell.py:3072: DtypeWarning: Columns (10) have mixed types.Specify dtype option on import or set low_memory=False.\n",
      "  interactivity=interactivity, compiler=compiler, result=result)\n"
     ]
    },
    {
     "data": {
      "image/png": "[encoded data removed]",
      "text/plain": [
       "<Figure size 432x288 with 1 Axes>"
      ]
     },
     "metadata": {
      "needs_background": "light"
     },
     "output_type": "display_data"
    }
   ],
   "source": [
    "all_partner = pd.read_csv('US_partner.csv')\n",
    "partner[(partner['Economy Label'] != 'China')\\\n",
    "        &(partner['Flow Label'] == 'Exports')\\\n",
    "        &(partner['Product'] == 'P_05')]\\\n",
    ".groupby('Year')['US dollars at current prices in thousands'].sum().plot.line()\n",
    "\n",
    "plt.title('worldwide plastic wastes exports excluding china')\n",
    "plt.show()"
   ]
  },
  {
   "cell_type": "code",
   "execution_count": null,
   "metadata": {},
   "outputs": [],
   "source": []
  }
 ],
 "metadata": {
  "kernelspec": {
   "display_name": "Python 3",
   "language": "python",
   "name": "python3"
  },
  "language_info": {
   "codemirror_mode": {
    "name": "ipython",
    "version": 3
   },
   "file_extension": ".py",
   "mimetype": "text/x-python",
   "name": "python",
   "nbconvert_exporter": "python",
   "pygments_lexer": "ipython3",
   "version": "3.6.12"
  }
 },
 "nbformat": 4,
 "nbformat_minor": 4
}
